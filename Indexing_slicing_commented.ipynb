{
 "cells": [
  {
   "cell_type": "code",
   "execution_count": null,
   "metadata": {
    "id": "ncUX5zc7NIj3"
   },
   "outputs": [],
   "source": [
    "# Importing NumPy library as 'np' for numerical operations\n",
    "import numpy as np"
   ]
  },
  {
   "cell_type": "code",
   "execution_count": 2,
   "metadata": {
    "colab": {
     "base_uri": "https://localhost:8080/"
    },
    "id": "Z3F4b9MONOMo",
    "outputId": "70ee51e3-fce2-456b-884c-5d1f099fa44f"
   },
   "outputs": [
    {
     "name": "stdout",
     "output_type": "stream",
     "text": [
      "[1 2 3]\n"
     ]
    }
   ],
   "source": [
    "# Creating a 1D NumPy array with 3 elements\n",
    "arr = np.array([1,2,3])\n",
    "print(arr)"
   ]
  },
  {
   "cell_type": "code",
   "execution_count": 4,
   "metadata": {
    "colab": {
     "base_uri": "https://localhost:8080/"
    },
    "id": "Gn9BuiOzNRvG",
    "outputId": "23256dbb-0fbc-4bc4-bc9b-51a24325fcf3"
   },
   "outputs": [
    {
     "name": "stdout",
     "output_type": "stream",
     "text": [
      "[[1 2 3]\n",
      " [2 3 5]]\n"
     ]
    }
   ],
   "source": [
    "# Creating a 2D NumPy array (2 rows, 3 columns)\n",
    "arr2 = np.array([[1,2,3], [2,3,5]])\n",
    "print(arr2)"
   ]
  },
  {
   "cell_type": "code",
   "execution_count": 5,
   "metadata": {
    "colab": {
     "base_uri": "https://localhost:8080/"
    },
    "id": "-fTcJpC0NWrS",
    "outputId": "824b4372-c970-4823-949a-6f98b4f3598b"
   },
   "outputs": [
    {
     "data": {
      "text/plain": [
       "array([[1, 5, 9],\n",
       "       [9, 8, 7],\n",
       "       [1, 5, 2]])"
      ]
     },
     "execution_count": 5,
     "metadata": {},
     "output_type": "execute_result"
    }
   ],
   "source": [
    "# Creating another 2D NumPy square matrix (3x3)\n",
    "arr3 = np.array([[1,5,9], [9,8,7], [1,5,2]])\n",
    "arr3"
   ]
  },
  {
   "cell_type": "code",
   "execution_count": 7,
   "metadata": {
    "colab": {
     "base_uri": "https://localhost:8080/"
    },
    "id": "bw6rKzJGNjJp",
    "outputId": "d4c9113a-224a-4524-cd9d-2aae0a22a353"
   },
   "outputs": [
    {
     "name": "stdout",
     "output_type": "stream",
     "text": [
      "[[0. 0. 0.]\n",
      " [0. 0. 0.]]\n"
     ]
    }
   ],
   "source": [
    "# Creating a 2x3 NumPy array filled with zeros\n",
    "#zero array\n",
    "zero_arr = np.zeros((2,3))\n",
    "print(zero_arr)"
   ]
  },
  {
   "cell_type": "code",
   "execution_count": 8,
   "metadata": {
    "colab": {
     "base_uri": "https://localhost:8080/"
    },
    "id": "MtBlRRRaPP4w",
    "outputId": "81984183-91a2-4c24-b82e-b70fcd7938cf"
   },
   "outputs": [
    {
     "name": "stdout",
     "output_type": "stream",
     "text": [
      "[[1. 1. 1.]\n",
      " [1. 1. 1.]]\n"
     ]
    }
   ],
   "source": [
    "# Creating a 2x3 NumPy array filled with ones\n",
    "ones_arr = np.ones((2,3))\n",
    "print(ones_arr)"
   ]
  },
  {
   "cell_type": "code",
   "execution_count": 9,
   "metadata": {
    "colab": {
     "base_uri": "https://localhost:8080/"
    },
    "id": "IZGRGLyFPW7v",
    "outputId": "39758147-3629-4919-e006-990fd2a60596"
   },
   "outputs": [
    {
     "name": "stdout",
     "output_type": "stream",
     "text": [
      "[ 1  4  7 10 13 16 19]\n"
     ]
    }
   ],
   "source": [
    "# Creating a NumPy array with values from 1 to 19, step 3\n",
    "arrage_arr = np.arange(1,20,3)\n",
    "print(arrage_arr)"
   ]
  },
  {
   "cell_type": "code",
   "execution_count": 18,
   "metadata": {
    "colab": {
     "base_uri": "https://localhost:8080/"
    },
    "id": "kE0GbmYZPqQa",
    "outputId": "d76fdbac-73b3-4a72-a69b-13113c414662"
   },
   "outputs": [
    {
     "name": "stdout",
     "output_type": "stream",
     "text": [
      "[ 1.    5.75 10.5  15.25 20.  ]\n"
     ]
    }
   ],
   "source": [
    "# Creating 5 equally spaced numbers from 1 to 20\n",
    "linspace_arr = np.linspace(1,20,5)\n",
    "print(linspace_arr)"
   ]
  },
  {
   "cell_type": "code",
   "execution_count": 19,
   "metadata": {
    "id": "jeairh9fPycS"
   },
   "outputs": [],
   "source": [
    "#creating a array\n",
    "#creating a array having zeros\n",
    "#creating a array having ones\n",
    "#creating a array start with 1, end with 20 having increase of 2\n",
    "#creating a array start with 10, end with 20 having 5 digits divided equally"
   ]
  },
  {
   "cell_type": "code",
   "execution_count": 22,
   "metadata": {
    "colab": {
     "base_uri": "https://localhost:8080/"
    },
    "id": "vvZJKXFvQbw6",
    "outputId": "90791480-874f-40ff-e077-6f270bb43fdc"
   },
   "outputs": [
    {
     "name": "stdout",
     "output_type": "stream",
     "text": [
      "[1 2 3 4 5]\n"
     ]
    }
   ],
   "source": [
    "# Creating and printing a simple 1D NumPy array\n",
    "x = np.array([1,2,3,4,5])\n",
    "print(x)"
   ]
  },
  {
   "cell_type": "code",
   "execution_count": 25,
   "metadata": {
    "colab": {
     "base_uri": "https://localhost:8080/"
    },
    "id": "tWtWGVNJQfqX",
    "outputId": "7a0d77c9-26fe-4c34-88c7-e1f49011839a"
   },
   "outputs": [
    {
     "name": "stdout",
     "output_type": "stream",
     "text": [
      "[ 5. 10. 15. 20. 25.]\n"
     ]
    }
   ],
   "source": [
    "# Task 1: 1D array with values from 5 to 25 using linspace\n",
    "#Task 1 : Create a 1D NumPy array containing values from 5 to 25 with a step of 5.\n",
    "array1 = np.linspace(5,25,5)\n",
    "print(array1)"
   ]
  },
  {
   "cell_type": "code",
   "execution_count": 29,
   "metadata": {
    "colab": {
     "base_uri": "https://localhost:8080/"
    },
    "id": "j9OCvjpFQ-Wh",
    "outputId": "76fc8b02-1122-4dfc-9150-cdf24a415a8e"
   },
   "outputs": [
    {
     "name": "stdout",
     "output_type": "stream",
     "text": [
      "[[7. 7. 7. 7.]\n",
      " [7. 7. 7. 7.]\n",
      " [7. 7. 7. 7.]]\n"
     ]
    }
   ],
   "source": [
    "# Creating a 2x3 NumPy array filled with ones\n",
    "#🔹 Task 2:\n",
    "#Create a 3x4 NumPy array filled entirely with the number 7.\n",
    "array2 = np.ones((3,4))\n",
    "seven_array = np.array(array2 * 7)\n",
    "print(seven_array)"
   ]
  },
  {
   "cell_type": "code",
   "execution_count": 30,
   "metadata": {
    "colab": {
     "base_uri": "https://localhost:8080/"
    },
    "id": "kSszQcl_RBm7",
    "outputId": "824d3c2c-9519-4c8b-c034-2462d86e12d9"
   },
   "outputs": [
    {
     "name": "stdout",
     "output_type": "stream",
     "text": [
      "[-10.  -6.  -2.   2.   6.  10.]\n"
     ]
    }
   ],
   "source": [
    "# Task 3: Generate 6 equally spaced values from -10 to 10\n",
    "#🔹 Task 3:\n",
    "#Generate an array of 6 equally spaced values starting from -10 to 10.\n",
    "equal_array = np.linspace(-10,10,6)\n",
    "print(equal_array)"
   ]
  },
  {
   "cell_type": "code",
   "execution_count": 31,
   "metadata": {
    "colab": {
     "base_uri": "https://localhost:8080/"
    },
    "id": "OQAnW4ZJRy-g",
    "outputId": "6c29a250-74b4-4f2d-fb4e-e7a86f47d106"
   },
   "outputs": [
    {
     "name": "stdout",
     "output_type": "stream",
     "text": [
      "[[1. 0. 0. 0.]\n",
      " [0. 1. 0. 0.]\n",
      " [0. 0. 1. 0.]\n",
      " [0. 0. 0. 1.]]\n"
     ]
    }
   ],
   "source": [
    "# Task 4: Create a 4x4 identity matrix\n",
    "#🔹 Task 4:\n",
    "#Create a 4x4 identity matrix using NumPy.\n",
    "identity_matrix = np.identity(4)\n",
    "print(identity_matrix)"
   ]
  },
  {
   "cell_type": "code",
   "execution_count": 32,
   "metadata": {
    "colab": {
     "base_uri": "https://localhost:8080/"
    },
    "id": "h7dEJF0NSGkQ",
    "outputId": "0745e046-fdf4-4c42-e64e-3ac25b446d2e"
   },
   "outputs": [
    {
     "name": "stdout",
     "output_type": "stream",
     "text": [
      "[ 86  85  82  67  59  72  74  57  95  96  57  94  73  65 100]\n"
     ]
    }
   ],
   "source": [
    "# Task 5: Generate 15 random integers between 50 and 100 inclusive\n",
    "#🔹 Task 5:\n",
    "#Generate an array of 15 random integers ranging from 50 to 100 (inclusive).\n",
    "random_array = np.random.randint(50,101,15)\n",
    "print(random_array)"
   ]
  },
  {
   "cell_type": "code",
   "execution_count": 2,
   "metadata": {
    "colab": {
     "base_uri": "https://localhost:8080/"
    },
    "id": "zxg0fIJ0SkLR",
    "outputId": "5a13a77a-27fc-45a5-d119-ff47085cc3b2"
   },
   "outputs": [
    {
     "name": "stdout",
     "output_type": "stream",
     "text": [
      "[[[1 2]\n",
      "  [3 4]]\n",
      "\n",
      " [[5 6]\n",
      "  [7 8]]]\n"
     ]
    }
   ],
   "source": [
    "# Creating a 3D NumPy array (2 blocks of 2x2 matrices)\n",
    "arr3 = np.array([[[1, 2], [3, 4]], [[5, 6], [7, 8]]])\n",
    "print(arr3)"
   ]
  },
  {
   "cell_type": "code",
   "execution_count": 3,
   "metadata": {
    "colab": {
     "base_uri": "https://localhost:8080/"
    },
    "id": "lvfWVi-KaPZ4",
    "outputId": "34aca6fa-3e8e-48f7-b56d-415131fe4ad4"
   },
   "outputs": [
    {
     "name": "stdout",
     "output_type": "stream",
     "text": [
      "4\n",
      "5\n"
     ]
    }
   ],
   "source": [
    "# Indexing specific elements from the 3D array\n",
    "print(arr3[0, 1, 1])  # 4 (1st block, 2nd row, 2nd col)\n",
    "print(arr3[1, 0, 0])  # 5 (2nd block, 1st row, 1st col)"
   ]
  },
  {
   "cell_type": "markdown",
   "metadata": {
    "id": "778e80db"
   },
   "source": [
    "A 3-dimensional array can be thought of as a collection of 2-dimensional arrays (matrices). Indexing and slicing work similarly to 2D arrays, but with an added dimension for the blocks.\n",
    "\n",
    "Let's use the `arr3` array you created to demonstrate indexing and slicing."
   ]
  },
  {
   "cell_type": "code",
   "execution_count": null,
   "metadata": {
    "id": "4a31c101"
   },
   "outputs": [],
   "source": [
    "# Demonstrating slicing and indexing in a 3D array\n",
    "# Original 3D array\n",
    "print(\"Original 3D array:\")\n",
    "print(arr3)\n",
    "print(\"-\" * 20)\n",
    "\n",
    "# Indexing: Accessing individual elements\n",
    "print(\"Accessing elements:\")\n",
    "print(f\"Element at arr3[0, 0, 0]: {arr3[0, 0, 0]}\") # Access the element at the first block, first row, first column\n",
    "print(f\"Element at arr3[1, 1, 1]: {arr3[1, 1, 1]}\") # Access the element at the second block, second row, second column\n",
    "print(\"-\" * 20)\n",
    "\n",
    "# Slicing: Accessing subarrays\n",
    "print(\"Slicing the array:\")\n",
    "print(\"First block:\")\n",
    "print(arr3[0, :, :]) # Slice the first block (all rows and columns within that block)\n",
    "print(\"-\" * 20)\n",
    "\n",
    "print(\"Second row of all blocks:\")\n",
    "print(arr3[:, 1, :]) # Slice the second row across all blocks and all columns within that row\n",
    "print(\"-\" * 20)\n",
    "\n",
    "print(\"First column of the first block:\")\n",
    "print(arr3[0, :, 0]) # Slice the first block, all rows, and the first column\n",
    "print(\"-\" * 20)\n",
    "\n",
    "print(\"Sub-array from the first block, first row, and second column onwards:\")\n",
    "print(arr3[0, 0, 1:]) # Slice the first block, first row, and elements from the second column onwards\n",
    "print(\"-\" * 20)"
   ]
  }
 ],
 "metadata": {
  "colab": {
   "provenance": []
  },
  "kernelspec": {
   "display_name": "machine_learning",
   "language": "python",
   "name": "python3"
  },
  "language_info": {
   "name": "python",
   "version": "3.10.16"
  }
 },
 "nbformat": 4,
 "nbformat_minor": 0
}
